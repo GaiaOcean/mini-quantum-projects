{
 "cells": [
  {
   "cell_type": "code",
   "execution_count": 31,
   "metadata": {},
   "outputs": [],
   "source": [
    "import pennylane as qml\n",
    "from pennylane import numpy as np\n",
    "from pennylane import qchem"
   ]
  },
  {
   "cell_type": "code",
   "execution_count": 32,
   "metadata": {},
   "outputs": [],
   "source": [
    "atoms =  ['H','H']\n",
    "molecule_geometry = np.array([[-0.673, 0, 0], [0.673,0,0]]) "
   ]
  },
  {
   "cell_type": "code",
   "execution_count": 33,
   "metadata": {},
   "outputs": [
    {
     "name": "stderr",
     "output_type": "stream",
     "text": [
      "c:\\Users\\User\\Anaconda3\\envs\\pennyLaneVenv\\lib\\site-packages\\pennylane\\numpy\\tensor.py:155: RuntimeWarning: divide by zero encountered in divide\n",
      "  res = super().__array_ufunc__(ufunc, method, *args, **kwargs)\n",
      "c:\\Users\\User\\Anaconda3\\envs\\pennyLaneVenv\\lib\\site-packages\\pennylane\\numpy\\tensor.py:155: RuntimeWarning: invalid value encountered in multiply\n",
      "  res = super().__array_ufunc__(ufunc, method, *args, **kwargs)\n"
     ]
    },
    {
     "name": "stderr",
     "output_type": "stream",
     "text": [
      "c:\\Users\\User\\Anaconda3\\envs\\pennyLaneVenv\\lib\\site-packages\\pennylane\\numpy\\tensor.py:155: RuntimeWarning: invalid value encountered in reduce\n",
      "  res = super().__array_ufunc__(ufunc, method, *args, **kwargs)\n"
     ]
    },
    {
     "name": "stdout",
     "output_type": "stream",
     "text": [
      "  (0.7429420505200593) [I0]\n"
     ]
    }
   ],
   "source": [
    "hamiltonian, num_qubits = qchem.molecular_hamiltonian(atoms, molecule_geometry)\n",
    "print(hamiltonian)\n"
   ]
  },
  {
   "cell_type": "code",
   "execution_count": 35,
   "metadata": {},
   "outputs": [
    {
     "data": {
      "text/plain": [
       "tensor(0.74294205, requires_grad=True)"
      ]
     },
     "execution_count": 35,
     "metadata": {},
     "output_type": "execute_result"
    }
   ],
   "source": [
    "num_wires = num_qubits\n",
    "device = qml.device(\"default.qubit\",wires = num_wires)\n",
    "\n",
    "@qml.qnode(device)\n",
    "def expectation_energy(state):\n",
    "    qml.BasisState(np.array(state), wires = range(num_wires))\n",
    "    return qml.expval(hamiltonian)\n",
    "\n",
    "expectation_energy([1,0,1,0])"
   ]
  },
  {
   "cell_type": "code",
   "execution_count": 36,
   "metadata": {},
   "outputs": [],
   "source": [
    "hartree_fox_state = qchem.hf_state(electrons = 2, orbitals = 4)"
   ]
  },
  {
   "cell_type": "code",
   "execution_count": 37,
   "metadata": {},
   "outputs": [
    {
     "data": {
      "text/plain": [
       "tensor(0.74294205, requires_grad=True)"
      ]
     },
     "execution_count": 37,
     "metadata": {},
     "output_type": "execute_result"
    }
   ],
   "source": [
    "expectation_energy(hartree_fox_state)"
   ]
  }
 ],
 "metadata": {
  "kernelspec": {
   "display_name": "pennyLaneVenv",
   "language": "python",
   "name": "python3"
  },
  "language_info": {
   "codemirror_mode": {
    "name": "ipython",
    "version": 3
   },
   "file_extension": ".py",
   "mimetype": "text/x-python",
   "name": "python",
   "nbconvert_exporter": "python",
   "pygments_lexer": "ipython3",
   "version": "3.9.21"
  }
 },
 "nbformat": 4,
 "nbformat_minor": 2
}
